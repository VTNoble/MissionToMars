{
 "cells": [
  {
   "cell_type": "markdown",
   "id": "4b81dd58",
   "metadata": {},
   "source": [
    "# Mission to Mars: Web Scraping"
   ]
  },
  {
   "cell_type": "code",
   "execution_count": 1,
   "id": "28ad390d",
   "metadata": {},
   "outputs": [],
   "source": [
    "# Dependencies\n",
    "from bs4 import BeautifulSoup \n",
    "import requests\n",
    "from splinter import Browser\n",
    "from webdriver_manager.chrome import ChromeDriverManager\n",
    "import pandas as pd"
   ]
  },
  {
   "cell_type": "code",
   "execution_count": 2,
   "id": "99869ca1",
   "metadata": {},
   "outputs": [
    {
     "name": "stdout",
     "output_type": "stream",
     "text": [
      "\n"
     ]
    },
    {
     "name": "stderr",
     "output_type": "stream",
     "text": [
      "[WDM] - ====== WebDriver manager ======\n",
      "[WDM] - Current google-chrome version is 102.0.5005\n",
      "[WDM] - Get LATEST chromedriver version for 102.0.5005 google-chrome\n",
      "[WDM] - Driver [/Users/jasonnoble/.wdm/drivers/chromedriver/mac64/102.0.5005.61/chromedriver] found in cache\n"
     ]
    }
   ],
   "source": [
    "# Set up Splinter\n",
    "executable_path = {'executable_path': ChromeDriverManager().install()}\n",
    "browser = Browser('chrome', **executable_path, headless=False)"
   ]
  },
  {
   "cell_type": "markdown",
   "id": "460da267",
   "metadata": {},
   "source": [
    "### NASA Mars News\n",
    "\n",
    "* Scrape the [Mars News Site](https://redplanetscience.com/) and collect the latest News Title and Paragraph Text. Assign the text to variables that you can reference later."
   ]
  },
  {
   "cell_type": "code",
   "execution_count": 3,
   "id": "4e0bd4a0",
   "metadata": {},
   "outputs": [],
   "source": [
    "# url to scrape\n",
    "url = 'https://redplanetscience.com/'\n",
    "\n",
    "# visit the url in the headless\n",
    "browser.visit(url)"
   ]
  },
  {
   "cell_type": "code",
   "execution_count": 4,
   "id": "24984060",
   "metadata": {},
   "outputs": [],
   "source": [
    "# grab the html\n",
    "html = browser.html\n",
    "\n",
    "# create the soup\n",
    "soup = BeautifulSoup(html, 'html.parser')\n",
    "\n",
    "# scrape the titles\n",
    "titles = soup.find_all('div', class_='content_title')\n",
    "\n",
    "# grab latest title and assign to variable\n",
    "news_title = titles[0].text\n",
    "\n",
    "# scrape the paragraphs\n",
    "pars = soup.find_all('div', class_='article_teaser_body')\n",
    "\n",
    "# grab latest paragraph and assign to variable\n",
    "news_p = pars[0].text"
   ]
  },
  {
   "cell_type": "markdown",
   "id": "29ae4036",
   "metadata": {},
   "source": [
    "### JPL Mars Space Images—Featured Image\n",
    "\n",
    "* Visit the URL for the Featured Space Image site [here](https://spaceimages-mars.com).\n",
    "\n",
    "* Use Splinter to navigate the site and find the image URL for the current Featured Mars Image, then assign the URL string to a variable called `featured_image_url`.\n",
    "\n",
    "* Be sure to find the image URL to the full-sized `.jpg` image.\n",
    "\n",
    "* Be sure to save a complete URL string for this image."
   ]
  },
  {
   "cell_type": "code",
   "execution_count": 5,
   "id": "30278ccf",
   "metadata": {},
   "outputs": [],
   "source": [
    "# url to scrape\n",
    "url = 'https://spaceimages-mars.com'\n",
    "\n",
    "# visit the url in the headless browser\n",
    "browser.visit(url)"
   ]
  },
  {
   "cell_type": "code",
   "execution_count": 6,
   "id": "12b1f274",
   "metadata": {},
   "outputs": [],
   "source": [
    "# grab the html\n",
    "html = browser.html\n",
    "\n",
    "# create the soup\n",
    "soup = BeautifulSoup(html, 'html.parser')\n",
    "\n",
    "# find featured image and assign to variable\n",
    "featured_image = soup.find(class_='headerimage', src=True)\n",
    "\n",
    "# extract src from image, build and assign url to variable\n",
    "featured_image_url = url + '/' + featured_image.get('src')"
   ]
  },
  {
   "cell_type": "markdown",
   "id": "c235c588",
   "metadata": {},
   "source": [
    "### Mars Facts\n",
    "\n",
    "* Visit the [Mars Facts webpage](https://galaxyfacts-mars.com) and use Pandas to scrape the table containing facts about the planet including diameter, mass, etc.\n",
    "\n",
    "* Use Pandas to convert the data to a HTML table string."
   ]
  },
  {
   "cell_type": "code",
   "execution_count": 7,
   "id": "7830ccad",
   "metadata": {},
   "outputs": [],
   "source": [
    "# url to scrape\n",
    "url = 'https://galaxyfacts-mars.com'"
   ]
  },
  {
   "cell_type": "code",
   "execution_count": 8,
   "id": "5bcb8fe8",
   "metadata": {},
   "outputs": [],
   "source": [
    "# use pandas read_html to parse the url\n",
    "tables = pd.read_html(url)"
   ]
  },
  {
   "cell_type": "code",
   "execution_count": 9,
   "id": "17a0df2d",
   "metadata": {},
   "outputs": [],
   "source": [
    "# assign desired table to 'df'\n",
    "df = tables[0]"
   ]
  },
  {
   "cell_type": "code",
   "execution_count": 10,
   "id": "5729d117",
   "metadata": {},
   "outputs": [],
   "source": [
    "# format df\n",
    "\n",
    "# assign columns\n",
    "df.columns = ['Description', 'Mars', 'Earth']\n",
    "\n",
    "# drop row that is no longer needed\n",
    "df.drop([0], inplace=True)\n",
    "\n",
    "# set index to 'Description' column\n",
    "df.set_index('Description', inplace=True)"
   ]
  },
  {
   "cell_type": "markdown",
   "id": "b8848da2",
   "metadata": {},
   "source": [
    "### Mars Hemispheres\n",
    "\n",
    "* Visit the [astrogeology site](https://marshemispheres.com/) to obtain high-resolution images for each hemisphere of Mars.\n",
    "\n",
    "* You will need to click each of the links to the hemispheres in order to find the image URL to the full-resolution image.\n",
    "\n",
    "* Save the image URL string for the full resolution hemisphere image and the hemisphere title containing the hemisphere name. Use a Python dictionary to store the data using the keys `img_url` and `title`.\n",
    "\n",
    "* Append the dictionary with the image URL string and the hemisphere title to a list. This list will contain one dictionary for each hemisphere."
   ]
  },
  {
   "cell_type": "code",
   "execution_count": 11,
   "id": "5071f96c",
   "metadata": {},
   "outputs": [],
   "source": [
    "# url to scrape\n",
    "url = 'https://marshemispheres.com/'\n",
    "\n",
    "# create hemispheres list\n",
    "hemispheres = ['cerberus', 'schiaparelli', 'syrtis', 'valles']\n",
    "\n",
    "# loop through hemispheres and build dictionary\n",
    "hemisphere_image_urls = []\n",
    "for hemisphere in hemispheres:\n",
    "    \n",
    "    # visit url\n",
    "    browser.visit(url + hemisphere + '.html')\n",
    "    \n",
    "    # grab the html\n",
    "    html = browser.html\n",
    "    \n",
    "    # create the soup\n",
    "    soup = BeautifulSoup(html, 'html.parser')\n",
    "    \n",
    "    # grab title\n",
    "    title = soup.find('h2', class_='title').text\n",
    "    \n",
    "    # grab url\n",
    "    div_w = soup.find('div', class_='wrapper')\n",
    "    div_c = div_w.find('div', class_='container')\n",
    "    div_wi = div_c.find('div', class_='wide-image-wrapper')\n",
    "    div_d = div_wi.find('div', class_='downloads')\n",
    "    link = div_d.find('a')\n",
    "    img_url = url + link['href']\n",
    "    \n",
    "    # create dictionary and append to list\n",
    "    hemisphere_image_urls.append({'title': title, 'img_url': img_url})"
   ]
  },
  {
   "cell_type": "code",
   "execution_count": 12,
   "id": "22cb3778",
   "metadata": {},
   "outputs": [],
   "source": [
    "# close the headless browser\n",
    "browser.quit()"
   ]
  },
  {
   "cell_type": "code",
   "execution_count": 14,
   "id": "68b7d987",
   "metadata": {},
   "outputs": [
    {
     "data": {
      "text/plain": [
       "[{'title': 'Cerberus Hemisphere Enhanced',\n",
       "  'img_url': 'https://marshemispheres.com/images/full.jpg'},\n",
       " {'title': 'Schiaparelli Hemisphere Enhanced',\n",
       "  'img_url': 'https://marshemispheres.com/images/schiaparelli_enhanced-full.jpg'},\n",
       " {'title': 'Syrtis Major Hemisphere Enhanced',\n",
       "  'img_url': 'https://marshemispheres.com/images/syrtis_major_enhanced-full.jpg'},\n",
       " {'title': 'Valles Marineris Hemisphere Enhanced',\n",
       "  'img_url': 'https://marshemispheres.com/images/valles_marineris_enhanced-full.jpg'}]"
      ]
     },
     "execution_count": 14,
     "metadata": {},
     "output_type": "execute_result"
    }
   ],
   "source": [
    "hemisphere_image_urls"
   ]
  },
  {
   "cell_type": "code",
   "execution_count": null,
   "id": "e55ec83a",
   "metadata": {},
   "outputs": [],
   "source": []
  }
 ],
 "metadata": {
  "kernelspec": {
   "display_name": "PythonData",
   "language": "python",
   "name": "pythondata"
  },
  "language_info": {
   "codemirror_mode": {
    "name": "ipython",
    "version": 3
   },
   "file_extension": ".py",
   "mimetype": "text/x-python",
   "name": "python",
   "nbconvert_exporter": "python",
   "pygments_lexer": "ipython3",
   "version": "3.7.11"
  }
 },
 "nbformat": 4,
 "nbformat_minor": 5
}
